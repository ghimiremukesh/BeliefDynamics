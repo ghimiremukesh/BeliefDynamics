{
 "cells": [
  {
   "cell_type": "markdown",
   "id": "c98ba361",
   "metadata": {},
   "source": [
    "### CFR -- Beer Quiche Game"
   ]
  },
  {
   "cell_type": "code",
   "execution_count": 1,
   "id": "43d052ee",
   "metadata": {},
   "outputs": [],
   "source": [
    "import numpy as np\n",
    "from typing import List, Dict\n",
    "import random\n",
    "import sys"
   ]
  },
  {
   "cell_type": "code",
   "execution_count": 8,
   "id": "a7699947",
   "metadata": {},
   "outputs": [],
   "source": [
    "p1_actions = ['B', 'Q']\n",
    "p2_actions = ['b', 'd']\n",
    "\n",
    "class information_set():\n",
    "    def __init__(self):\n",
    "        self.cumulative_regrets = np.zeros(shape=2)\n",
    "        self.strategy_sum = np.zeros(shape=2)\n",
    "        self.num_actions = 2 # 2 for both players\n",
    "        \n",
    "    def normalize(self, strategy):\n",
    "        \"\"\"Normalize strategy. If no positive regrets, strategy is unif. random\"\"\"\n",
    "        if sum(strategy) > 0:\n",
    "            strategy /= sum(strategy)\n",
    "        else:\n",
    "            strategy = np.ones(self.num_actions)/self.num_actions\n",
    "        \n",
    "        return strategy\n",
    "    \n",
    "    def get_strategy(self, reach_probability):\n",
    "        \"\"\"Return regret matching strategy\"\"\"\n",
    "        strategy = np.maximum(0, self.cumulative_regrets)\n",
    "        strategy = self.normalize(strategy)\n",
    "        \n",
    "        self.strategy_sum += reach_probability * strategy\n",
    "        \n",
    "        return strategy\n",
    "    \n",
    "    def get_average_strategy(self):\n",
    "        return self.normalize(self.strategy_sum.copy())"
   ]
  },
  {
   "cell_type": "code",
   "execution_count": 45,
   "id": "0d4c9090",
   "metadata": {},
   "outputs": [],
   "source": [
    "class BeerQuiche():   \n",
    "    @staticmethod\n",
    "    def is_terminal(history):\n",
    "        return history in ['Bb', 'Bd', 'Qb', 'Qd']\n",
    "    \n",
    "    @staticmethod\n",
    "    def get_payoff(history, p1_type):\n",
    "        payoff = 0\n",
    "        if p1_type == 'T': # tough\n",
    "            if history == 'Bb':\n",
    "                payoff = 2\n",
    "            elif history == 'Bd':\n",
    "                payoff = 1\n",
    "            elif history == 'Qb':\n",
    "                payoff = 1\n",
    "            else:\n",
    "                payoff = 0\n",
    "        else:\n",
    "            if history == 'Bb':\n",
    "                payoff = -2\n",
    "            elif history == 'Bd':\n",
    "                payoff = 0\n",
    "            elif history == 'Qb':\n",
    "                payoff = -1\n",
    "            else:\n",
    "                payoff = 2\n",
    "        \n",
    "        return payoff"
   ]
  },
  {
   "cell_type": "code",
   "execution_count": 48,
   "id": "b12fe858",
   "metadata": {},
   "outputs": [],
   "source": [
    "class cfr_trainer():\n",
    "    def __init__(self):\n",
    "        self.infoset_map: Dict[str, info_set] = {}\n",
    "        \n",
    "    def get_information_set(self, type_and_history):\n",
    "        \"\"\"add if needed and return\"\"\"\n",
    "        if type_and_history not in self.infoset_map:\n",
    "            self.infoset_map[type_and_history] = information_set()\n",
    "        \n",
    "        return self.infoset_map[type_and_history]\n",
    "    \n",
    "    def cfr(self, p1_type, history, reach_probabilities, active_player):\n",
    "        if BeerQuiche.is_terminal(history):\n",
    "            return BeerQuiche.get_payoff(history, p1_type)\n",
    "        \n",
    "        if active_player == 0:\n",
    "            info_set = self.get_information_set(p1_type + history)\n",
    "        else:\n",
    "            info_set = self.get_information_set(history)\n",
    "        \n",
    "        strategy = info_set.get_strategy(reach_probabilities[active_player])\n",
    "        \n",
    "        op = (active_player + 1) % 2\n",
    "        counterfactual_values = np.zeros(2)\n",
    "        if active_player == 0:\n",
    "            actions = p1_actions\n",
    "        else:\n",
    "            actions = p2_actions\n",
    "            \n",
    "        for ix, action in enumerate(actions):\n",
    "            action_probability = strategy[ix]\n",
    "            \n",
    "            new_reach_probabilities = reach_probabilities.copy()\n",
    "            new_reach_probabilities[active_player] *= action_probability\n",
    "            \n",
    "            counterfactual_values[ix] = -self.cfr(p1_type, history + action, new_reach_probabilities, op)\n",
    "        \n",
    "        node_value = counterfactual_values.dot(strategy)\n",
    "        for ix, action in enumerate(actions):\n",
    "            info_set.cumulative_regrets[ix] += reach_probabilities[op] * (counterfactual_values[ix] - node_value)\n",
    "        \n",
    "        return node_value\n",
    "\n",
    "    def train(self, num_iterations):\n",
    "        util = 0\n",
    "        p = 1/3\n",
    "        types = [1, 2]\n",
    "        for _ in range(num_iterations):\n",
    "            p1_t = np.random.choice(types, p=[p, 1-p])\n",
    "            p1_type = 'T' if p1_t == 1 else 'W'\n",
    "            history = ''\n",
    "            reach_probabilities = np.ones(2)\n",
    "            util += self.cfr(p1_type, history, reach_probabilities, 0)\n",
    "        \n",
    "        return util"
   ]
  },
  {
   "cell_type": "code",
   "execution_count": 49,
   "id": "bd288c1a",
   "metadata": {},
   "outputs": [],
   "source": [
    "trainer = cfr_trainer()\n",
    "num_itrs = 1000000\n",
    "util = trainer.train(num_itrs)"
   ]
  },
  {
   "cell_type": "code",
   "execution_count": 50,
   "id": "c595e907",
   "metadata": {},
   "outputs": [
    {
     "name": "stdout",
     "output_type": "stream",
     "text": [
      "W: [0.24937692 0.75062308]\n",
      "B: [0.50115336 0.49884664]\n",
      "Q: [9.999995e-01 5.000000e-07]\n",
      "T: [9.99998499e-01 1.50133018e-06]\n"
     ]
    }
   ],
   "source": [
    "for name, info_set in sorted(trainer.infoset_map.items(), key= lambda s: len(s[0])):\n",
    "    print(f\"{name}: {info_set.get_average_strategy()}\")"
   ]
  },
  {
   "cell_type": "code",
   "execution_count": null,
   "id": "c8ca4f52",
   "metadata": {},
   "outputs": [],
   "source": []
  }
 ],
 "metadata": {
  "kernelspec": {
   "display_name": "Python 3 (ipykernel)",
   "language": "python",
   "name": "python3"
  },
  "language_info": {
   "codemirror_mode": {
    "name": "ipython",
    "version": 3
   },
   "file_extension": ".py",
   "mimetype": "text/x-python",
   "name": "python",
   "nbconvert_exporter": "python",
   "pygments_lexer": "ipython3",
   "version": "3.8.13"
  }
 },
 "nbformat": 4,
 "nbformat_minor": 5
}
